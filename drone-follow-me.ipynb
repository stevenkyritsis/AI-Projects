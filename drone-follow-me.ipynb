{
    "cells": [
        {
            "cell_type": "markdown",
            "id": "b53b6f23",
            "metadata": {},
            "source": [
                "# Drone follow me using Kalman Filters\n",
                "\n",
                "Multi-Object Tracking (MOT) is a core visual ability that humans poses to perform kinetic tasks and coordinate other tasks. The AI community has recognized the importance of MOT via a series of [competitions](https://motchallenge.net). \n",
                "\n",
                "In this assignment, the object class is `bicycle` and `car` the ability to track these objects  will be demonstrated using [Kalman Filters](https://en.wikipedia.org/wiki/Kalman_filter).  \n",
                "\n",
                "\n",
                "## Task 1: Setup your development environment and store the test video locally (10 points)\n",
                "\n",
                "Your environment must be docker based and you can use any TF2 or PT2 based docker container compatible with your environment. You can also use colab. "
            ]
        },
        {
            "cell_type": "code",
            "execution_count": null,
            "metadata": {},
            "outputs": [],
            "source": []
        },
        {
            "cell_type": "markdown",
            "id": "8514b0e1",
            "metadata": {},
            "source": [
                "## Task 2: Object Detection (40 points)\n",
                "\n",
                "Perform object detection on the following videos. \n",
                "\n",
                "```{eval-rst}\n",
                ".. youtube:: https://www.youtube.com/watch?v=WeF4wpw7w9kWeF4wpw7w9k\n",
                "```\n",
                "\n",
                "```{eval-rst}\n",
                ".. youtube:: https://www.youtube.com/watch?v=2NFwY15tRtA\n",
                "```\n",
                "\n",
                "```{eval-rst}\n",
                ".. youtube:: https://www.youtube.com/watch?v=5dRramZVu2Q\n",
                "```\n",
                "Split the videos into frames and use an object detector of your choice, in a framework of your choice to detect the cyclists.  "
            ]
        },
        {
            "cell_type": "code",
            "execution_count": null,
            "id": "a8b2b678",
            "metadata": {},
            "outputs": [],
            "source": []
        },
        {
            "cell_type": "markdown",
            "id": "040d381c",
            "metadata": {},
            "source": [
                "## Task 3: Kalman Filter (50 points)\n",
                "\n",
                "Use the  [filterpy](https://filterpy.readthedocs.io/en/latest/kalman/KalmanFilter.html) library to implement Kalman filters that will track the cyclist and the vehicle (if present) in the video. You will need to use the detections from the previous task to initialize and run the Kalman filter. \n",
                "\n",
                "You need to deliver a video that contains the trajectory of the objects as a line that connects the pixels that the tracker indicated. You can use the `ffmpeg` command line tool and OpenCV to superpose the bounding box of the drone on the video as well as plot its trajectory. \n",
                "\n",
                "Suggest methods that you can use to address  false positives and how the tracker can help you in this regard.\n",
                "\n",
                "You will need to have one Kalman filter to track each of the required and present objects (cyclist and vehicle)."
            ]
        },
        {
            "cell_type": "markdown",
            "id": "8a2dc9f5",
            "metadata": {},
            "source": []
        },
        {
            "cell_type": "markdown",
            "id": "dfaf9ea3",
            "metadata": {},
            "source": [
                "## Extra Bonus (20 points)\n",
                "\n",
                "```{eval-rst}\n",
                ".. youtube:: https://www.youtube.com/watch?v=2hQx48U1L-Y2hQx48U1L-Y\n",
                "```\n",
                "\n",
                "The cyclist in the video goes in and out of occlusions. In addition the object is small making detections fairly problematic without finetuning and other optimizations.  Fintetuning involves using the pretrained model and training it further using images of cyclists from a training dataset such as [VisDrone](https://github.com/VisDrone/VisDrone-Dataset). At the same time,  reducing the number of classes to a much smaller number such as person & bicycle may help.  Also some 2 stage detectors may need to be further optimized in terms of parameters for small objects. See [this paper](https://www.mdpi.com/1424-8220/23/15/6887) for ideas around small object tracking. \n",
                "\n",
                "```{note}\n",
                "The extra points can only be awarded in the category of `assignments` and cannot be used to compensate for any other category such as `exams`. \n",
                "```"
            ]
        }
    ],
    "metadata": {
        "kernelspec": {
            "display_name": "Python 3",
            "language": "python",
            "name": "python3"
        },
        "language_info": {
            "codemirror_mode": {
                "name": "ipython",
                "version": 3
            },
            "file_extension": ".py",
            "mimetype": "text/x-python",
            "name": "python",
            "nbconvert_exporter": "python",
            "pygments_lexer": "ipython3",
            "version": "3.8.5"
        }
    },
    "nbformat": 4,
    "nbformat_minor": 5
}
