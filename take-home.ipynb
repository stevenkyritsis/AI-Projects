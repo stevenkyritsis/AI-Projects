{
 "cells": [
  {
   "cell_type": "markdown",
   "metadata": {},
   "source": [
    "# MIDTERM CS370 \n",
    "\n",
    "## PROBLEM SET 1: BAYESIAN LEARNING AND INFERENCE (TAKE HOME PROBLEM)\n",
    "\n",
    "### PS1.1: Learning the bent coin experiment (15 points)\n",
    "\n",
    "Consider a bent coin that has a probability of 0.7 of landing heads and a probability of 0.3 of landing tails. The coin is flipped m times. The sequence of heads and tails is recorded / observed and a hypothetical receiver needs to estimate the probability of heads from the experimental data.\n",
    "\n",
    "\n",
    "####  PS1.1-1 (2.5 points)\n",
    "\n",
    "What is the entropy in bits of the bent coin? Explain why its < 1 bits. \n",
    "\n"
   ]
  },
  {
   "cell_type": "code",
   "execution_count": 5,
   "metadata": {},
   "outputs": [
    {
     "name": "stdout",
     "output_type": "stream",
     "text": [
      "-0.8812908992306927 bits\n"
     ]
    }
   ],
   "source": [
    "import math\n",
    "\n",
    "print((math.log2(0.7)*0.7)+(math.log2(0.3)*0.3), \"bits\")"
   ]
  },
  {
   "cell_type": "markdown",
   "metadata": {},
   "source": [
    "#### The result comes out to be about 0.881 bits; less than one. This is because there is a bias in the outcome to be heads and is not evenly distributed between the two possble outcomes."
   ]
  },
  {
   "cell_type": "markdown",
   "metadata": {},
   "source": [
    "#### PS1.1-2 (2.5 points)\n",
    "\n",
    "Plot the entropy of the sequence of heads and tails as m increases for m=1 to m=500 in steps of 50?"
   ]
  },
  {
   "cell_type": "code",
   "execution_count": 11,
   "metadata": {},
   "outputs": [
    {
     "data": {
      "image/png": "[encoded data removed]",
      "text/plain": [
       "<Figure size 640x480 with 1 Axes>"
      ]
     },
     "metadata": {},
     "output_type": "display_data"
    }
   ],
   "source": [
    "import numpy as np\n",
    "import matplotlib.pyplot as plt\n",
    "\n",
    "# Function to calculate entropy\n",
    "def entropy(p):\n",
    "    return -np.sum(p * np.log2(p))\n",
    "\n",
    "# Probability of heads and tails\n",
    "p_heads = 0.7\n",
    "p_tails = 0.3\n",
    "\n",
    "# Range of values for m\n",
    "m_values = np.arange(1, 501, 50)\n",
    "\n",
    "# Calculate entropy for each value of m\n",
    "entropies = []\n",
    "for m in m_values:\n",
    "    # Probability of getting a sequence of m flips with k heads\n",
    "    p_sequence = np.array([(p_heads ** k) * (p_tails ** (m - k)) for k in range(m + 1)])\n",
    "    # Normalize the probabilities\n",
    "    p_sequence = p_sequence / np.sum(p_sequence)\n",
    "    # Calculate entropy for this sequence\n",
    "    entropies.append(entropy(p_sequence))\n",
    "\n",
    "# Plotting\n",
    "plt.plot(m_values, entropies, marker='o')\n",
    "plt.title('Entropy of Sequence of Heads and Tails')\n",
    "plt.xlabel('Number of flips (m)')\n",
    "plt.ylabel('Entropy (bits)')\n",
    "plt.grid(True)\n",
    "plt.show()\n"
   ]
  },
  {
   "cell_type": "markdown",
   "metadata": {},
   "source": [
    "#### PS1.1-3 (10 points)\n",
    "\n",
    "The receiver is given the sequence of heads and tails and must use the Bayes rule to estimate the probability of heads. As a parenthesis, if we know this parameter then we we can infer / predict the next binary event but this is not the focus here. \n",
    "\n",
    "The prior probability distribution is assumed to be beta and to solve this problem, you need to review the similar example presented in your AIMA textbook (Section 20.2.5) titled \"Bayesian Parameter Learning\". You are asked to estimate and plot the **mean of the posterior probability distribution** of the probability of heads as a function of the probability of heads given the sequence of heads and tails where m=[0,1, 2, 3, 4, 5, 10, 20, 50, 100]. \n",
    "\n",
    "You can use the scipy.stats library to help you out. To get full points you need to document extensively your code and explain the results. Note that you have to produce except from the 10 plots, a table with the mean and variance where the columns will be $m$, mean, var.\n",
    "\n"
   ]
  },
  {
   "cell_type": "code",
   "execution_count": null,
   "metadata": {},
   "outputs": [],
   "source": []
  },
  {
   "cell_type": "markdown",
   "metadata": {},
   "source": [
    "### PS1.2 Bayesian Linear Regression (15 points)\n",
    "\n",
    "#### PS1.2-1 Dataset (2.5 points)\n",
    "\n",
    "Generate a dataset of $m$ data points identical to the example of Figure 4.1 in GERON but modify the code such that you can produce results for the very small (eg 3 data points), low $m$ (eg 10 data points) and larger $m$ (eg 100 data points) cases. "
   ]
  },
  {
   "cell_type": "code",
   "execution_count": null,
   "metadata": {},
   "outputs": [],
   "source": [
    "import numpy as np\n",
    "\n",
    "np.random.seed(42)  # to make this code example reproducible\n",
    "m = 100  # number of instances\n",
    "X = 2 * np.random.rand(m, 1)  # column vector\n",
    "y = 4 + 3 * X + np.random.randn(m, 1)  # column vector"
   ]
  },
  {
   "cell_type": "code",
   "execution_count": null,
   "metadata": {},
   "outputs": [],
   "source": []
  },
  {
   "cell_type": "markdown",
   "metadata": {},
   "source": [
    "#### PS1.2-2 Bayesian  Regression  (12.5 points)\n",
    "\n",
    "To solve this problem, you need to review the similar example presented in your AIMA textbook (Section 20.2.6) titled \"Bayesian Linear Regression\". You can also look at the code [here](https://github.com/pantelis-classes/PRML/blob/master/prml/linear/_bayesian_regression.py). \n",
    "\n",
    "Replicate the the Figure 20.7 (a) and (b) shown below. You dont have to replicate the exact examples but you have to generate two figures. The first should show the predictive distribution for the case of small data (sparsity) eg $m=3$ and the second when we have more data eg $m=10$.  Confidence intervals should be shown using the exaxt same standard deviations (1-3 $\\sigma$) as in the figure.\n",
    "\n",
    "![](Fig_20_07.png)\n",
    "\n",
    "Significant number of points will be subtracted if the code presented is not well documented and if the results are not explained. Use markdown cell and markdown to write a tutorial like treatment of the problem even if this entails copying the equations from the book."
   ]
  },
  {
   "cell_type": "code",
   "execution_count": null,
   "metadata": {},
   "outputs": [],
   "source": [
    "'''\n",
    "20.2.6 contains the code to generate the data for the linear regression example in the book.\n",
    "'''"
   ]
  }
 ],
 "metadata": {
  "kernelspec": {
   "display_name": "base",
   "language": "python",
   "name": "python3"
  },
  "language_info": {
   "codemirror_mode": {
    "name": "ipython",
    "version": 3
   },
   "file_extension": ".py",
   "mimetype": "text/x-python",
   "name": "python",
   "nbconvert_exporter": "python",
   "pygments_lexer": "ipython3",
   "version": "3.11.6"
  }
 },
 "nbformat": 4,
 "nbformat_minor": 2
}
